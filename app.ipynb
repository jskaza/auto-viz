{
 "cells": [
  {
   "cell_type": "code",
   "execution_count": 34,
   "id": "933ce6ee",
   "metadata": {},
   "outputs": [],
   "source": [
    "import openai\n",
    "import panel as pn\n",
    "from sklearn import datasets\n",
    "import numpy as np\n",
    "import pandas as pd\n",
    "import os\n",
    "import json\n",
    "import matplotlib.pyplot as plt\n",
    "from matplotlib.figure import Figure\n",
    "import seaborn as sns\n",
    "openai.api_key  = os.environ.get(\"OPENAI_KEY\")"
   ]
  },
  {
   "cell_type": "code",
   "execution_count": 13,
   "id": "ab216027",
   "metadata": {},
   "outputs": [],
   "source": [
    "\n",
    "iris = datasets.load_iris()\n",
    "type_map = {k: v for k, v in enumerate(iris['target_names'])}\n",
    "df = pd.DataFrame(data= np.c_[iris['data'], iris['target']],\n",
    "                     columns= iris['feature_names'] + ['target'])\n",
    "df['target'] = df['target'].map(type_map)\n",
    "numeric_vars = list(df.dtypes[df.dtypes == float].index)\n",
    "other_vars = list(df.dtypes[df.dtypes != float].index)\n",
    "cat_levels = {}\n",
    "for var in other_vars:\n",
    "    cat_levels[var] = list(df[var].unique())\n"
   ]
  },
  {
   "cell_type": "code",
   "execution_count": 14,
   "id": "d27d6db5",
   "metadata": {},
   "outputs": [],
   "source": [
    "\n",
    "def get_completion_from_messages(messages, model=\"gpt-3.5-turbo\", temperature=0):\n",
    "    response = openai.ChatCompletion.create(\n",
    "        model=model,\n",
    "        messages=messages,\n",
    "        temperature=temperature, # this is the degree of randomness of the model's output\n",
    "    )\n",
    "    return response.choices[0].message[\"content\"]\n",
    "\n",
    "\n",
    "def collect_messages(_):\n",
    "    prompt = inp.value_input\n",
    "    inp.value = ''\n",
    "    context.append({'role':'user', 'content':f\"{prompt}\"})\n",
    "    response = get_completion_from_messages(context) \n",
    "    context.append({'role':'assistant', 'content':f\"{response}\"})\n",
    "    if len(context) > 3:\n",
    "        panels.append(\n",
    "            pn.Row('User:', pn.pane.Markdown(prompt, width=600))\n",
    "        )\n",
    "        try:\n",
    "            exec(json.loads(context[-1]['content'])['codegen'])\n",
    "            panels.append(\n",
    "                pn.Row('Assistant:', \n",
    "                    pn.pane.PNG(json.loads(context[-1]['content'])['filename'])\n",
    "                    )\n",
    "            )\n",
    "            panels.append(\n",
    "                pn.Row(pn.pane.HTML(f\"<code>{json.loads(context[-1]['content'])['codegen']}</code>\".replace('\\n', '<br/>'),\n",
    "                                         width=600, style={'background-color': '#F6F6F6'}))\n",
    "            )\n",
    "        except Exception as e:\n",
    "            panels.append(\n",
    "                pn.Row('Assistant:', pn.pane.Markdown(f'Unable to generate plot: {str(e)}', width=600, style={'background-color': '#F6F6F6'}))\n",
    "            )\n",
    "    \n",
    "        return pn.Column(*panels)"
   ]
  },
  {
   "cell_type": "code",
   "execution_count": 15,
   "id": "b50e4548",
   "metadata": {},
   "outputs": [],
   "source": [
    "f = open('prompt.txt', 'r')\n",
    "prompt = f.read()\n",
    "prompt = prompt.replace('NUMERIC_VARS', str(numeric_vars))\n",
    "prompt = prompt.replace('CAT_LEVELS', str(cat_levels))\n",
    "prompt = prompt.replace('NUMERIC_VAR_1', numeric_vars[0])\n",
    "prompt = prompt.replace('NUMERIC_VAR_2', numeric_vars[1])\n",
    "prompt = prompt.replace('CAT_VAR_1', list(cat_levels.keys())[0])\n",
    "# print(prompt)"
   ]
  },
  {
   "cell_type": "code",
   "execution_count": 16,
   "id": "ba1bd62e",
   "metadata": {},
   "outputs": [],
   "source": [
    "pn.extension()\n",
    "\n",
    "panels = [] # collect display \n",
    "\n",
    "context = [ {'role':'system', 'content':prompt} ]\n",
    "\n",
    "inp = pn.widgets.TextInput(value=\"Hi\", placeholder='Enter description of a plot here…')\n",
    "button_conversation = pn.widgets.Button(name='Chat!')\n",
    "\n",
    "interactive_conversation = pn.bind(collect_messages, button_conversation)\n",
    "\n",
    "dashboard = pn.Column(\n",
    "    pn.Row('Visually explore the Iris Dataset using Natural Language prompts.'),\n",
    "    pn.Row(pn.pane.HTML(df.describe(include='all').to_html())),\n",
    "    inp,\n",
    "    pn.Row(button_conversation),\n",
    "    pn.panel(interactive_conversation, loading_indicator=True, height=300),\n",
    ")\n",
    "\n",
    "dashboard.show()"
   ]
  }
 ],
 "metadata": {
  "kernelspec": {
   "display_name": "Python 3 (ipykernel)",
   "language": "python",
   "name": "python3"
  },
  "language_info": {
   "codemirror_mode": {
    "name": "ipython",
    "version": 3
   },
   "file_extension": ".py",
   "mimetype": "text/x-python",
   "name": "python",
   "nbconvert_exporter": "python",
   "pygments_lexer": "ipython3",
   "version": "3.9.7"
  }
 },
 "nbformat": 4,
 "nbformat_minor": 5
}
